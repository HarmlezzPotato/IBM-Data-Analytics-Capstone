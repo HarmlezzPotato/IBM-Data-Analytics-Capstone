{
 "cells": [
  {
   "cell_type": "markdown",
   "id": "9c06fdcc-421a-46c2-949d-a579b1e20e55",
   "metadata": {},
   "source": [
    "<p style=\"text-align:center\">\n",
    "    <a href=\"https://skills.network\" target=\"_blank\">\n",
    "    <img src=\"https://cf-courses-data.s3.us.cloud-object-storage.appdomain.cloud/assets/logos/SN_web_lightmode.png\" width=\"200\" alt=\"Skills Network Logo\"  />\n",
    "    </a>\n",
    "</p>\n"
   ]
  },
  {
   "cell_type": "markdown",
   "id": "61dae894-7e6f-4049-ad89-28c7295a386e",
   "metadata": {},
   "source": [
    "# **Removing Duplicates**\n"
   ]
  },
  {
   "cell_type": "markdown",
   "id": "95fea4c1-f8e5-4ca1-9fd9-5efb239e44c7",
   "metadata": {},
   "source": [
    "Estimated time needed: **45 to 60** minutes\n"
   ]
  },
  {
   "cell_type": "markdown",
   "id": "592eb6d9-0ba6-4c28-9adb-e972852b6943",
   "metadata": {},
   "source": [
    "## Introduction\n"
   ]
  },
  {
   "cell_type": "markdown",
   "id": "cd76f319-8e7e-408a-a2cc-53a78c4d48d4",
   "metadata": {},
   "source": [
    "In this lab, you will focus on data wrangling, an important step in preparing data for analysis. Data wrangling involves cleaning and organizing data to make it suitable for analysis. One key task in this process is removing duplicate entries, which are repeated entries that can distort analysis and lead to inaccurate conclusions.  \n"
   ]
  },
  {
   "cell_type": "markdown",
   "id": "595c4424-6dcb-491e-aecd-ac830c71a393",
   "metadata": {},
   "source": [
    "## Objectives\n"
   ]
  },
  {
   "cell_type": "markdown",
   "id": "2e0b98e7-c074-47d7-8fc0-61286f3031aa",
   "metadata": {},
   "source": [
    "In this lab you will perform the following:\n"
   ]
  },
  {
   "cell_type": "markdown",
   "id": "2b8be0a5-d65c-43c0-af2c-fb6e8e9251f3",
   "metadata": {},
   "source": [
    "1. Identify duplicate rows  in the dataset.\n",
    "2. Use suitable techniques to remove duplicate rows and verify the removal.\n",
    "3. Summarize how to handle missing values appropriately.\n",
    "4. Use ConvertedCompYearly to normalize compensation data.\n",
    "   \n"
   ]
  },
  {
   "cell_type": "markdown",
   "id": "47ef63f6-5f6f-429a-9776-d3d9acc1a432",
   "metadata": {},
   "source": [
    "### Install the Required Libraries\n"
   ]
  },
  {
   "cell_type": "code",
   "execution_count": 269,
   "id": "64a7efff-df6d-45b7-a0e5-b57e2c098c80",
   "metadata": {},
   "outputs": [],
   "source": [
    "#!pip install pandas"
   ]
  },
  {
   "cell_type": "markdown",
   "id": "0e2694af-c2e4-4755-a900-efc385425f1f",
   "metadata": {},
   "source": [
    "### Step 1: Import Required Libraries\n"
   ]
  },
  {
   "cell_type": "code",
   "execution_count": 270,
   "id": "32ff93ab-d691-4619-b164-77f8f4b8afd0",
   "metadata": {},
   "outputs": [],
   "source": [
    "import pandas as pd"
   ]
  },
  {
   "cell_type": "markdown",
   "id": "f0a26da2-5e8e-40b5-aa77-e3572a408466",
   "metadata": {},
   "source": [
    "### Step 2: Load the Dataset into a DataFrame\n"
   ]
  },
  {
   "cell_type": "markdown",
   "id": "33d89389-bc92-4957-a7e8-3940a651b158",
   "metadata": {},
   "source": [
    "#### **Read Data**\n"
   ]
  },
  {
   "cell_type": "markdown",
   "id": "a0036976-1f29-4986-a7bc-e025b19b4b84",
   "metadata": {},
   "source": [
    "If you are using JupyterLite, use the code below to download the dataset into your environment. If you are using a local environment, you can use the direct URL with <code>pd.read_csv()</code>.\n"
   ]
  },
  {
   "cell_type": "code",
   "execution_count": 271,
   "id": "c59463d7-475e-489d-bddb-93950e5380a1",
   "metadata": {},
   "outputs": [
    {
     "data": {
      "text/plain": [
       "'from pyodide.http import pyfetch\\n\\nasync def download(url, filename):\\n    response = await pyfetch(url)\\n    if response.status == 200:\\n        with open(filename, \"wb\") as f:\\n            f.write(await response.bytes())\\n\\n# Define the file path for the data\\nfile_path = \"https://cf-courses-data.s3.us.cloud-object-storage.appdomain.cloud/n01PQ9pSmiRX6520flujwQ/survey-data.csv\"\\n\\n# Download the dataset\\nawait download(file_path, \"survey_data.csv\")\\nfile_name = \"survey_data.csv'"
      ]
     },
     "execution_count": 271,
     "metadata": {},
     "output_type": "execute_result"
    }
   ],
   "source": [
    "\"\"\"from pyodide.http import pyfetch\n",
    "\n",
    "async def download(url, filename):\n",
    "    response = await pyfetch(url)\n",
    "    if response.status == 200:\n",
    "        with open(filename, \"wb\") as f:\n",
    "            f.write(await response.bytes())\n",
    "\n",
    "# Define the file path for the data\n",
    "file_path = \"https://cf-courses-data.s3.us.cloud-object-storage.appdomain.cloud/n01PQ9pSmiRX6520flujwQ/survey-data.csv\"\n",
    "\n",
    "# Download the dataset\n",
    "await download(file_path, \"survey_data.csv\")\n",
    "file_name = \"survey_data.csv\"\"\"\n"
   ]
  },
  {
   "cell_type": "markdown",
   "id": "f8fbb262-83ad-4b4b-9a66-60b942ebe17c",
   "metadata": {},
   "source": [
    "**Load the data into a pandas dataframe:**\n"
   ]
  },
  {
   "cell_type": "code",
   "execution_count": 272,
   "id": "84381dc9-7d78-4399-9733-2845bf533498",
   "metadata": {},
   "outputs": [],
   "source": [
    "#df = pd.read_csv(file_name)"
   ]
  },
  {
   "cell_type": "markdown",
   "id": "08cefe1d-ebd0-4b75-8c31-41165bd70ee6",
   "metadata": {},
   "source": [
    "**Note: If you are working on a local Jupyter environment, you can use the URL directly in the <code>pandas.read_csv()</code>  function as shown below:**\n",
    "\n"
   ]
  },
  {
   "cell_type": "markdown",
   "id": "1055e943-8523-48d6-a9e8-528f712a6fba",
   "metadata": {},
   "source": [
    "##### df = pd.read_csv(\"https://cf-courses-data.s3.us.cloud-object-storage.appdomain.cloud/n01PQ9pSmiRX6520flujwQ/survey-data.csv\")\n"
   ]
  },
  {
   "cell_type": "code",
   "execution_count": 273,
   "metadata": {},
   "outputs": [
    {
     "name": "stdout",
     "output_type": "stream",
     "text": [
      "(65437, 114)\n"
     ]
    },
    {
     "data": {
      "text/html": [
       "<div>\n",
       "<style scoped>\n",
       "    .dataframe tbody tr th:only-of-type {\n",
       "        vertical-align: middle;\n",
       "    }\n",
       "\n",
       "    .dataframe tbody tr th {\n",
       "        vertical-align: top;\n",
       "    }\n",
       "\n",
       "    .dataframe thead th {\n",
       "        text-align: right;\n",
       "    }\n",
       "</style>\n",
       "<table border=\"1\" class=\"dataframe\">\n",
       "  <thead>\n",
       "    <tr style=\"text-align: right;\">\n",
       "      <th></th>\n",
       "      <th>ResponseId</th>\n",
       "      <th>MainBranch</th>\n",
       "      <th>Age</th>\n",
       "      <th>Employment</th>\n",
       "      <th>RemoteWork</th>\n",
       "      <th>Check</th>\n",
       "      <th>CodingActivities</th>\n",
       "      <th>EdLevel</th>\n",
       "      <th>LearnCode</th>\n",
       "      <th>LearnCodeOnline</th>\n",
       "      <th>...</th>\n",
       "      <th>JobSatPoints_6</th>\n",
       "      <th>JobSatPoints_7</th>\n",
       "      <th>JobSatPoints_8</th>\n",
       "      <th>JobSatPoints_9</th>\n",
       "      <th>JobSatPoints_10</th>\n",
       "      <th>JobSatPoints_11</th>\n",
       "      <th>SurveyLength</th>\n",
       "      <th>SurveyEase</th>\n",
       "      <th>ConvertedCompYearly</th>\n",
       "      <th>JobSat</th>\n",
       "    </tr>\n",
       "  </thead>\n",
       "  <tbody>\n",
       "    <tr>\n",
       "      <th>0</th>\n",
       "      <td>1</td>\n",
       "      <td>I am a developer by profession</td>\n",
       "      <td>Under 18 years old</td>\n",
       "      <td>Employed, full-time</td>\n",
       "      <td>Remote</td>\n",
       "      <td>Apples</td>\n",
       "      <td>Hobby</td>\n",
       "      <td>Primary/elementary school</td>\n",
       "      <td>Books / Physical media</td>\n",
       "      <td>NaN</td>\n",
       "      <td>...</td>\n",
       "      <td>NaN</td>\n",
       "      <td>NaN</td>\n",
       "      <td>NaN</td>\n",
       "      <td>NaN</td>\n",
       "      <td>NaN</td>\n",
       "      <td>NaN</td>\n",
       "      <td>NaN</td>\n",
       "      <td>NaN</td>\n",
       "      <td>NaN</td>\n",
       "      <td>NaN</td>\n",
       "    </tr>\n",
       "    <tr>\n",
       "      <th>1</th>\n",
       "      <td>2</td>\n",
       "      <td>I am a developer by profession</td>\n",
       "      <td>35-44 years old</td>\n",
       "      <td>Employed, full-time</td>\n",
       "      <td>Remote</td>\n",
       "      <td>Apples</td>\n",
       "      <td>Hobby;Contribute to open-source projects;Other...</td>\n",
       "      <td>Bachelor’s degree (B.A., B.S., B.Eng., etc.)</td>\n",
       "      <td>Books / Physical media;Colleague;On the job tr...</td>\n",
       "      <td>Technical documentation;Blogs;Books;Written Tu...</td>\n",
       "      <td>...</td>\n",
       "      <td>0.0</td>\n",
       "      <td>0.0</td>\n",
       "      <td>0.0</td>\n",
       "      <td>0.0</td>\n",
       "      <td>0.0</td>\n",
       "      <td>0.0</td>\n",
       "      <td>NaN</td>\n",
       "      <td>NaN</td>\n",
       "      <td>NaN</td>\n",
       "      <td>NaN</td>\n",
       "    </tr>\n",
       "    <tr>\n",
       "      <th>2</th>\n",
       "      <td>3</td>\n",
       "      <td>I am a developer by profession</td>\n",
       "      <td>45-54 years old</td>\n",
       "      <td>Employed, full-time</td>\n",
       "      <td>Remote</td>\n",
       "      <td>Apples</td>\n",
       "      <td>Hobby;Contribute to open-source projects;Other...</td>\n",
       "      <td>Master’s degree (M.A., M.S., M.Eng., MBA, etc.)</td>\n",
       "      <td>Books / Physical media;Colleague;On the job tr...</td>\n",
       "      <td>Technical documentation;Blogs;Books;Written Tu...</td>\n",
       "      <td>...</td>\n",
       "      <td>NaN</td>\n",
       "      <td>NaN</td>\n",
       "      <td>NaN</td>\n",
       "      <td>NaN</td>\n",
       "      <td>NaN</td>\n",
       "      <td>NaN</td>\n",
       "      <td>Appropriate in length</td>\n",
       "      <td>Easy</td>\n",
       "      <td>NaN</td>\n",
       "      <td>NaN</td>\n",
       "    </tr>\n",
       "    <tr>\n",
       "      <th>3</th>\n",
       "      <td>4</td>\n",
       "      <td>I am learning to code</td>\n",
       "      <td>18-24 years old</td>\n",
       "      <td>Student, full-time</td>\n",
       "      <td>NaN</td>\n",
       "      <td>Apples</td>\n",
       "      <td>NaN</td>\n",
       "      <td>Some college/university study without earning ...</td>\n",
       "      <td>Other online resources (e.g., videos, blogs, f...</td>\n",
       "      <td>Stack Overflow;How-to videos;Interactive tutorial</td>\n",
       "      <td>...</td>\n",
       "      <td>NaN</td>\n",
       "      <td>NaN</td>\n",
       "      <td>NaN</td>\n",
       "      <td>NaN</td>\n",
       "      <td>NaN</td>\n",
       "      <td>NaN</td>\n",
       "      <td>Too long</td>\n",
       "      <td>Easy</td>\n",
       "      <td>NaN</td>\n",
       "      <td>NaN</td>\n",
       "    </tr>\n",
       "    <tr>\n",
       "      <th>4</th>\n",
       "      <td>5</td>\n",
       "      <td>I am a developer by profession</td>\n",
       "      <td>18-24 years old</td>\n",
       "      <td>Student, full-time</td>\n",
       "      <td>NaN</td>\n",
       "      <td>Apples</td>\n",
       "      <td>NaN</td>\n",
       "      <td>Secondary school (e.g. American high school, G...</td>\n",
       "      <td>Other online resources (e.g., videos, blogs, f...</td>\n",
       "      <td>Technical documentation;Blogs;Written Tutorial...</td>\n",
       "      <td>...</td>\n",
       "      <td>NaN</td>\n",
       "      <td>NaN</td>\n",
       "      <td>NaN</td>\n",
       "      <td>NaN</td>\n",
       "      <td>NaN</td>\n",
       "      <td>NaN</td>\n",
       "      <td>Too short</td>\n",
       "      <td>Easy</td>\n",
       "      <td>NaN</td>\n",
       "      <td>NaN</td>\n",
       "    </tr>\n",
       "  </tbody>\n",
       "</table>\n",
       "<p>5 rows × 114 columns</p>\n",
       "</div>"
      ],
      "text/plain": [
       "   ResponseId                      MainBranch                 Age  \\\n",
       "0           1  I am a developer by profession  Under 18 years old   \n",
       "1           2  I am a developer by profession     35-44 years old   \n",
       "2           3  I am a developer by profession     45-54 years old   \n",
       "3           4           I am learning to code     18-24 years old   \n",
       "4           5  I am a developer by profession     18-24 years old   \n",
       "\n",
       "            Employment RemoteWork   Check  \\\n",
       "0  Employed, full-time     Remote  Apples   \n",
       "1  Employed, full-time     Remote  Apples   \n",
       "2  Employed, full-time     Remote  Apples   \n",
       "3   Student, full-time        NaN  Apples   \n",
       "4   Student, full-time        NaN  Apples   \n",
       "\n",
       "                                    CodingActivities  \\\n",
       "0                                              Hobby   \n",
       "1  Hobby;Contribute to open-source projects;Other...   \n",
       "2  Hobby;Contribute to open-source projects;Other...   \n",
       "3                                                NaN   \n",
       "4                                                NaN   \n",
       "\n",
       "                                             EdLevel  \\\n",
       "0                          Primary/elementary school   \n",
       "1       Bachelor’s degree (B.A., B.S., B.Eng., etc.)   \n",
       "2    Master’s degree (M.A., M.S., M.Eng., MBA, etc.)   \n",
       "3  Some college/university study without earning ...   \n",
       "4  Secondary school (e.g. American high school, G...   \n",
       "\n",
       "                                           LearnCode  \\\n",
       "0                             Books / Physical media   \n",
       "1  Books / Physical media;Colleague;On the job tr...   \n",
       "2  Books / Physical media;Colleague;On the job tr...   \n",
       "3  Other online resources (e.g., videos, blogs, f...   \n",
       "4  Other online resources (e.g., videos, blogs, f...   \n",
       "\n",
       "                                     LearnCodeOnline  ... JobSatPoints_6  \\\n",
       "0                                                NaN  ...            NaN   \n",
       "1  Technical documentation;Blogs;Books;Written Tu...  ...            0.0   \n",
       "2  Technical documentation;Blogs;Books;Written Tu...  ...            NaN   \n",
       "3  Stack Overflow;How-to videos;Interactive tutorial  ...            NaN   \n",
       "4  Technical documentation;Blogs;Written Tutorial...  ...            NaN   \n",
       "\n",
       "  JobSatPoints_7 JobSatPoints_8 JobSatPoints_9 JobSatPoints_10  \\\n",
       "0            NaN            NaN            NaN             NaN   \n",
       "1            0.0            0.0            0.0             0.0   \n",
       "2            NaN            NaN            NaN             NaN   \n",
       "3            NaN            NaN            NaN             NaN   \n",
       "4            NaN            NaN            NaN             NaN   \n",
       "\n",
       "  JobSatPoints_11           SurveyLength SurveyEase ConvertedCompYearly JobSat  \n",
       "0             NaN                    NaN        NaN                 NaN    NaN  \n",
       "1             0.0                    NaN        NaN                 NaN    NaN  \n",
       "2             NaN  Appropriate in length       Easy                 NaN    NaN  \n",
       "3             NaN               Too long       Easy                 NaN    NaN  \n",
       "4             NaN              Too short       Easy                 NaN    NaN  \n",
       "\n",
       "[5 rows x 114 columns]"
      ]
     },
     "execution_count": 273,
     "metadata": {},
     "output_type": "execute_result"
    }
   ],
   "source": [
    "#df = df = pd.read_csv(\"https://cf-courses-data.s3.us.cloud-object-storage.appdomain.cloud/n01PQ9pSmiRX6520flujwQ/survey-data.csv\")\n",
    "#In my case, I prefer to download the file and then read it from the local file system\n",
    "#This is so that I do not have to wait a long time for the file to be downloaded each time I run the code\n",
    "import os\n",
    "path = os.path.join(os.getcwd(), \"survey_data.csv\")\n",
    "df = pd.read_csv(path)\n",
    "print(df.shape)\n",
    "df.head()"
   ]
  },
  {
   "cell_type": "markdown",
   "id": "7ac2e82f-3e0b-4c5d-94d2-b3a45953d0b3",
   "metadata": {},
   "source": [
    "### Step 3: Identifying Duplicate Rows\n"
   ]
  },
  {
   "cell_type": "markdown",
   "id": "c07e51cf-5025-449d-8502-2253e1f5705b",
   "metadata": {},
   "source": [
    "**Task 1: Identify Duplicate Rows**\n",
    "  1. Count the number of duplicate rows in the dataset.\n",
    "  2. Display the first few duplicate rows to understand their structure.\n"
   ]
  },
  {
   "cell_type": "code",
   "execution_count": 274,
   "id": "829ae242-52c6-43ff-8aa3-a4b9dde8f8d0",
   "metadata": {},
   "outputs": [
    {
     "name": "stdout",
     "output_type": "stream",
     "text": [
      "Number of duplicate rows: 487\n"
     ]
    },
    {
     "data": {
      "text/html": [
       "<div>\n",
       "<style scoped>\n",
       "    .dataframe tbody tr th:only-of-type {\n",
       "        vertical-align: middle;\n",
       "    }\n",
       "\n",
       "    .dataframe tbody tr th {\n",
       "        vertical-align: top;\n",
       "    }\n",
       "\n",
       "    .dataframe thead th {\n",
       "        text-align: right;\n",
       "    }\n",
       "</style>\n",
       "<table border=\"1\" class=\"dataframe\">\n",
       "  <thead>\n",
       "    <tr style=\"text-align: right;\">\n",
       "      <th></th>\n",
       "      <th>ResponseId</th>\n",
       "      <th>MainBranch</th>\n",
       "      <th>Age</th>\n",
       "      <th>Employment</th>\n",
       "      <th>RemoteWork</th>\n",
       "      <th>Check</th>\n",
       "      <th>CodingActivities</th>\n",
       "      <th>EdLevel</th>\n",
       "      <th>LearnCode</th>\n",
       "      <th>LearnCodeOnline</th>\n",
       "      <th>...</th>\n",
       "      <th>JobSatPoints_6</th>\n",
       "      <th>JobSatPoints_7</th>\n",
       "      <th>JobSatPoints_8</th>\n",
       "      <th>JobSatPoints_9</th>\n",
       "      <th>JobSatPoints_10</th>\n",
       "      <th>JobSatPoints_11</th>\n",
       "      <th>SurveyLength</th>\n",
       "      <th>SurveyEase</th>\n",
       "      <th>ConvertedCompYearly</th>\n",
       "      <th>JobSat</th>\n",
       "    </tr>\n",
       "  </thead>\n",
       "  <tbody>\n",
       "    <tr>\n",
       "      <th>46264</th>\n",
       "      <td>46265</td>\n",
       "      <td>I am a developer by profession</td>\n",
       "      <td>25-34 years old</td>\n",
       "      <td>Employed, full-time</td>\n",
       "      <td>Remote</td>\n",
       "      <td>Apples</td>\n",
       "      <td>NaN</td>\n",
       "      <td>NaN</td>\n",
       "      <td>NaN</td>\n",
       "      <td>NaN</td>\n",
       "      <td>...</td>\n",
       "      <td>NaN</td>\n",
       "      <td>NaN</td>\n",
       "      <td>NaN</td>\n",
       "      <td>NaN</td>\n",
       "      <td>NaN</td>\n",
       "      <td>NaN</td>\n",
       "      <td>NaN</td>\n",
       "      <td>NaN</td>\n",
       "      <td>NaN</td>\n",
       "      <td>NaN</td>\n",
       "    </tr>\n",
       "    <tr>\n",
       "      <th>46774</th>\n",
       "      <td>46775</td>\n",
       "      <td>I am a developer by profession</td>\n",
       "      <td>18-24 years old</td>\n",
       "      <td>Employed, full-time</td>\n",
       "      <td>Hybrid (some remote, some in-person)</td>\n",
       "      <td>Apples</td>\n",
       "      <td>Hobby;Professional development or self-paced l...</td>\n",
       "      <td>NaN</td>\n",
       "      <td>NaN</td>\n",
       "      <td>NaN</td>\n",
       "      <td>...</td>\n",
       "      <td>NaN</td>\n",
       "      <td>NaN</td>\n",
       "      <td>NaN</td>\n",
       "      <td>NaN</td>\n",
       "      <td>NaN</td>\n",
       "      <td>NaN</td>\n",
       "      <td>NaN</td>\n",
       "      <td>NaN</td>\n",
       "      <td>NaN</td>\n",
       "      <td>NaN</td>\n",
       "    </tr>\n",
       "    <tr>\n",
       "      <th>46921</th>\n",
       "      <td>46922</td>\n",
       "      <td>I am a developer by profession</td>\n",
       "      <td>18-24 years old</td>\n",
       "      <td>Employed, full-time</td>\n",
       "      <td>In-person</td>\n",
       "      <td>Apples</td>\n",
       "      <td>NaN</td>\n",
       "      <td>NaN</td>\n",
       "      <td>NaN</td>\n",
       "      <td>NaN</td>\n",
       "      <td>...</td>\n",
       "      <td>NaN</td>\n",
       "      <td>NaN</td>\n",
       "      <td>NaN</td>\n",
       "      <td>NaN</td>\n",
       "      <td>NaN</td>\n",
       "      <td>NaN</td>\n",
       "      <td>NaN</td>\n",
       "      <td>NaN</td>\n",
       "      <td>NaN</td>\n",
       "      <td>NaN</td>\n",
       "    </tr>\n",
       "    <tr>\n",
       "      <th>47073</th>\n",
       "      <td>47074</td>\n",
       "      <td>I am not primarily a developer, but I write co...</td>\n",
       "      <td>25-34 years old</td>\n",
       "      <td>Employed, full-time</td>\n",
       "      <td>In-person</td>\n",
       "      <td>Apples</td>\n",
       "      <td>NaN</td>\n",
       "      <td>NaN</td>\n",
       "      <td>NaN</td>\n",
       "      <td>NaN</td>\n",
       "      <td>...</td>\n",
       "      <td>NaN</td>\n",
       "      <td>NaN</td>\n",
       "      <td>NaN</td>\n",
       "      <td>NaN</td>\n",
       "      <td>NaN</td>\n",
       "      <td>NaN</td>\n",
       "      <td>NaN</td>\n",
       "      <td>NaN</td>\n",
       "      <td>NaN</td>\n",
       "      <td>NaN</td>\n",
       "    </tr>\n",
       "    <tr>\n",
       "      <th>47340</th>\n",
       "      <td>47341</td>\n",
       "      <td>I code primarily as a hobby</td>\n",
       "      <td>Under 18 years old</td>\n",
       "      <td>Student, full-time</td>\n",
       "      <td>NaN</td>\n",
       "      <td>Apples</td>\n",
       "      <td>NaN</td>\n",
       "      <td>NaN</td>\n",
       "      <td>NaN</td>\n",
       "      <td>NaN</td>\n",
       "      <td>...</td>\n",
       "      <td>NaN</td>\n",
       "      <td>NaN</td>\n",
       "      <td>NaN</td>\n",
       "      <td>NaN</td>\n",
       "      <td>NaN</td>\n",
       "      <td>NaN</td>\n",
       "      <td>NaN</td>\n",
       "      <td>NaN</td>\n",
       "      <td>NaN</td>\n",
       "      <td>NaN</td>\n",
       "    </tr>\n",
       "  </tbody>\n",
       "</table>\n",
       "<p>5 rows × 114 columns</p>\n",
       "</div>"
      ],
      "text/plain": [
       "       ResponseId                                         MainBranch  \\\n",
       "46264       46265                     I am a developer by profession   \n",
       "46774       46775                     I am a developer by profession   \n",
       "46921       46922                     I am a developer by profession   \n",
       "47073       47074  I am not primarily a developer, but I write co...   \n",
       "47340       47341                        I code primarily as a hobby   \n",
       "\n",
       "                      Age           Employment  \\\n",
       "46264     25-34 years old  Employed, full-time   \n",
       "46774     18-24 years old  Employed, full-time   \n",
       "46921     18-24 years old  Employed, full-time   \n",
       "47073     25-34 years old  Employed, full-time   \n",
       "47340  Under 18 years old   Student, full-time   \n",
       "\n",
       "                                 RemoteWork   Check  \\\n",
       "46264                                Remote  Apples   \n",
       "46774  Hybrid (some remote, some in-person)  Apples   \n",
       "46921                             In-person  Apples   \n",
       "47073                             In-person  Apples   \n",
       "47340                                   NaN  Apples   \n",
       "\n",
       "                                        CodingActivities EdLevel LearnCode  \\\n",
       "46264                                                NaN     NaN       NaN   \n",
       "46774  Hobby;Professional development or self-paced l...     NaN       NaN   \n",
       "46921                                                NaN     NaN       NaN   \n",
       "47073                                                NaN     NaN       NaN   \n",
       "47340                                                NaN     NaN       NaN   \n",
       "\n",
       "      LearnCodeOnline  ... JobSatPoints_6 JobSatPoints_7 JobSatPoints_8  \\\n",
       "46264             NaN  ...            NaN            NaN            NaN   \n",
       "46774             NaN  ...            NaN            NaN            NaN   \n",
       "46921             NaN  ...            NaN            NaN            NaN   \n",
       "47073             NaN  ...            NaN            NaN            NaN   \n",
       "47340             NaN  ...            NaN            NaN            NaN   \n",
       "\n",
       "      JobSatPoints_9 JobSatPoints_10 JobSatPoints_11 SurveyLength SurveyEase  \\\n",
       "46264            NaN             NaN             NaN          NaN        NaN   \n",
       "46774            NaN             NaN             NaN          NaN        NaN   \n",
       "46921            NaN             NaN             NaN          NaN        NaN   \n",
       "47073            NaN             NaN             NaN          NaN        NaN   \n",
       "47340            NaN             NaN             NaN          NaN        NaN   \n",
       "\n",
       "      ConvertedCompYearly JobSat  \n",
       "46264                 NaN    NaN  \n",
       "46774                 NaN    NaN  \n",
       "46921                 NaN    NaN  \n",
       "47073                 NaN    NaN  \n",
       "47340                 NaN    NaN  \n",
       "\n",
       "[5 rows x 114 columns]"
      ]
     },
     "execution_count": 274,
     "metadata": {},
     "output_type": "execute_result"
    }
   ],
   "source": [
    "# your code goes here\n",
    "count = df.duplicated(subset = df.columns[1:]).sum()\n",
    "print(f\"Number of duplicate rows: {count}\")\n",
    "duplicates = df[df.duplicated(subset = df.columns[1:])]\n",
    "duplicates.head()"
   ]
  },
  {
   "cell_type": "markdown",
   "id": "4eabe8f9-8d48-406e-9364-9385cc2e93dd",
   "metadata": {},
   "source": [
    "### Step 4: Removing Duplicate Rows\n"
   ]
  },
  {
   "cell_type": "markdown",
   "id": "2a612ce2-e214-468d-863c-319889bd7f03",
   "metadata": {},
   "source": [
    "**Task 2: Remove Duplicates**\n",
    "   1. Remove duplicate rows from the dataset using the drop_duplicates() function.\n",
    "2. Verify the removal by counting the number of duplicate rows after removal .\n"
   ]
  },
  {
   "cell_type": "code",
   "execution_count": 275,
   "id": "c7baa7d9-53e8-4237-bfcd-e3228c92aae4",
   "metadata": {},
   "outputs": [
    {
     "name": "stdout",
     "output_type": "stream",
     "text": [
      "Number of duplicates after duplicates removal: 0\n"
     ]
    }
   ],
   "source": [
    "# your code goes here\n",
    "df_unique = df.drop_duplicates(subset = df.columns[1:])\n",
    "count = df_unique.duplicated(subset = df.columns[1:]).sum()\n",
    "print(f\"Number of duplicates after duplicates removal: {count}\")"
   ]
  },
  {
   "cell_type": "markdown",
   "id": "be06f8d7-a07a-489e-a5bd-c4b84e8c5f7c",
   "metadata": {},
   "source": [
    "### Step 5: Handling Missing Values\n"
   ]
  },
  {
   "cell_type": "markdown",
   "id": "cc9ad921-45a0-492c-b52e-062204402a25",
   "metadata": {},
   "source": [
    "**Task 3: Identify and Handle Missing Values**\n",
    "   1. Identify missing values for all columns in the dataset.\n",
    "   2. Choose a column with significant missing values (e.g., EdLevel) and impute with the most frequent value.\n"
   ]
  },
  {
   "cell_type": "code",
   "execution_count": 283,
   "id": "ae28feab-86b7-4202-bb6f-e92c926eb99d",
   "metadata": {},
   "outputs": [
    {
     "name": "stdout",
     "output_type": "stream",
     "text": [
      "Number of duplicates after duplicates removal: 0\n",
      "AINextMuch less integrated    63802\n",
      "AINextLess integrated         62595\n",
      "AINextNo change               52452\n",
      "AINextMuch more integrated    51512\n",
      "EmbeddedAdmired               48217\n",
      "                              ...  \n",
      "MainBranch                        0\n",
      "Check                             0\n",
      "Employment                        0\n",
      "Age                               0\n",
      "ResponseId                        0\n",
      "Name: Missing Values, Length: 114, dtype: int64 \n",
      "==============================================\n",
      "\n",
      "Column with significant missing values: AINextMuch less integrated\n",
      "==============================================\n",
      "\n",
      "AINextMuch less integrated\n",
      "Writing code                                                                                                                                                                                                                   154\n",
      "Learning about a codebase                                                                                                                                                                                                       88\n",
      "Search for answers                                                                                                                                                                                                              61\n",
      "Debugging and getting help                                                                                                                                                                                                      45\n",
      "Generating content or synthetic data                                                                                                                                                                                            43\n",
      "                                                                                                                                                                                                                              ... \n",
      "Learning about a codebase;Project planning;Writing code;Debugging and getting help;Committing and reviewing code;Generating content or synthetic data                                                                            1\n",
      "Writing code;Documenting code;Testing code;Search for answers;Generating content or synthetic data                                                                                                                               1\n",
      "Project planning;Writing code;Documenting code;Debugging and getting help;Testing code;Committing and reviewing code;Deployment and monitoring;Search for answers;Generating content or synthetic data                           1\n",
      "Learning about a codebase;Project planning;Committing and reviewing code;Deployment and monitoring;Predictive analytics;Search for answers;Generating content or synthetic data                                                  1\n",
      "Learning about a codebase;Project planning;Writing code;Documenting code;Debugging and getting help;Testing code;Committing and reviewing code;Predictive analytics;Search for answers;Generating content or synthetic data      1\n",
      "Name: Frequency of missing values for column AINextMuch less integrated, Length: 286, dtype: int64 \n",
      "==============================================\n",
      "\n",
      "Most frequent value in the column: AINextMuch less integrated is Writing code\n",
      "==============================================\n",
      "\n",
      "Number of missing values in the column AINextMuch less integrated after replacement: 0\n"
     ]
    }
   ],
   "source": [
    "# your code goes here\n",
    "df_unique = df.drop_duplicates(subset = df.columns[1:])\n",
    "count = df_unique.duplicated(subset = df.columns[1:]).sum()\n",
    "print(f\"Number of duplicates after duplicates removal: {count}\")\n",
    "\n",
    "# your code goes here\n",
    "#Fist I need to check for missing values, and then choose a column with the most significant missing values\n",
    "missing_values = df_unique.isnull().sum().sort_values(ascending= False)\n",
    "missing_values.name = \"Missing Values\"\n",
    "print(missing_values,\"\\n==============================================\\n\")\n",
    "\n",
    "most_missing_value_column = missing_values.index[0]\n",
    "print(f\"Column with significant missing values: {most_missing_value_column}\\n==============================================\\n\")\n",
    "\n",
    "#Now I have to find the most frequesnt value in this column\n",
    "frequency = df_unique[most_missing_value_column].value_counts()\n",
    "frequency.name = f\"Frequency of missing values for column {most_missing_value_column}\"\n",
    "\n",
    "print(frequency,\"\\n==============================================\\n\")\n",
    "\n",
    "'''#Now I have to select the most frequent value\n",
    "frequent_value = frequency.index[0]\n",
    "print(f\"Most frequent value in the column: {missing_values.index[0]} is {frequent_value}\\n==============================================\\n\")\n",
    "\n",
    "\n",
    "#Now I have to replace the missing values with the most frequent value in the column\n",
    "df_unique[most_missing_value_column]= df_unique[most_missing_value_column].fillna(frequent_value, inplace = True)\n",
    "print(f\"Number of missing values in the column {most_missing_value_column} after replacement: {df_unique[most_missing_value_column].isnull().sum()}\")'''\n",
    "\n",
    "#The above code does not work because there are columns that do not have non-null values at all\n",
    "'''Here's a simple explanation\n",
    "\n",
    "Imagine you have a basket of apples. If the basket has at least one apple, you can say which color appears the most (e.g., \"Red apples are the most common\"). \n",
    "But if the basket is empty, there's nothing to count, and you can't find a \"most common apple.\"\n",
    "\n",
    "The same thing happens in Python:\n",
    "\n",
    "If a column has values, value_counts() will tell us the most frequent one.\n",
    "If a column only has missing values (NaN), value_counts() returns an empty list (just like an empty basket).\n",
    "Trying to pick a \"most common value\" from an empty list causes an error.\n",
    "So, we check frequency.empty to make sure the basket isn’t empty before trying to find the most frequent item.'''\n",
    "if not frequency.empty:\n",
    "    frequent_value = frequency.index[0]\n",
    "    print(f\"Most frequent value in the column: {most_missing_value_column} is {frequent_value}\\n==============================================\\n\")\n",
    "    \n",
    "    df_unique.loc[:, most_missing_value_column] = df_unique[most_missing_value_column].fillna(frequent_value)\n",
    "    \n",
    "    print(f\"Number of missing values in the column {most_missing_value_column} after replacement: {df_unique[most_missing_value_column].isnull().sum()}\")\n",
    "else:\n",
    "    print(f\"No non-null values found in column {most_missing_value_column}. Cannot determine most frequent value.\")"
   ]
  },
  {
   "cell_type": "markdown",
   "id": "86335c8e-529d-4a63-82f6-96e222f07a1e",
   "metadata": {},
   "source": [
    "### Step 6: Normalizing Compensation Data\n"
   ]
  },
  {
   "cell_type": "markdown",
   "id": "404a5e09-d680-49b6-ae78-6e41274d56dc",
   "metadata": {},
   "source": [
    "**Task 4: Normalize Compensation Data Using ConvertedCompYearly**\n",
    "   1. Use the ConvertedCompYearly column for compensation analysis as the normalized annual compensation is already provided.\n",
    "   2. Check for missing values in ConvertedCompYearly and handle them if necessary.\n"
   ]
  },
  {
   "cell_type": "code",
   "execution_count": 277,
   "id": "dfafd49c-d4c5-4fc4-8266-ecad29e6480d",
   "metadata": {},
   "outputs": [
    {
     "name": "stdout",
     "output_type": "stream",
     "text": [
      "Number of missing values in column ConvertedCompYearly: 41515\n",
      "==============================================\n",
      "\n",
      "Missing values replaced with median\n"
     ]
    }
   ],
   "source": [
    "# your code goes here\n",
    "num_null_values = df_unique[\"ConvertedCompYearly\"].isnull().sum()\n",
    "print(f\"Number of missing values in column ConvertedCompYearly: {num_null_values}\\n==============================================\\n\")\n",
    "\n",
    "if num_null_values > 0:\n",
    "    #I'm will relace missing values with the median value\n",
    "    median = df_unique[\"ConvertedCompYearly\"].median()\n",
    "    # df_unique.loc[:, most_missing_value_column] = df_unique[most_missing_value_column].fillna(frequent_value)\n",
    "    df_unique.loc[:,\"ConvertedCompYearly\"] = df_unique[\"ConvertedCompYearly\"].fillna(median)\n",
    "    print(\"Missing values replaced with median\")\n",
    "else:\n",
    "    print(\"There are no missing values\")"
   ]
  },
  {
   "cell_type": "markdown",
   "id": "50ec16e0-6dc9-4405-851a-7b8806d77775",
   "metadata": {},
   "source": [
    "### Step 7: Summary and Next Steps\n"
   ]
  },
  {
   "cell_type": "markdown",
   "id": "4939509b-0488-40b9-8f8b-383017ea6242",
   "metadata": {},
   "source": [
    "**In this lab, you focused on identifying and removing duplicate rows.**\n",
    "\n",
    "- You handled missing values by imputing the most frequent value in a chosen column.\n",
    "\n",
    "- You used ConvertedCompYearly for compensation normalization and handled missing values.\n",
    "\n",
    "- For further analysis, consider exploring other columns or visualizing the cleaned dataset.\n"
   ]
  },
  {
   "cell_type": "markdown",
   "id": "d4f4bad0-a216-4721-b6e7-c0fe1cd51e18",
   "metadata": {},
   "source": [
    "<!--\n",
    "## Change Log\n",
    "\n",
    "|Date (YYYY-MM-DD)|Version|Changed By|Change Description|\n",
    "|-|-|-|-|\n",
    "|2024-11-05|1.2|Madhusudhan Moole|Updated lab|\n",
    "|2024-09-24|1.1|Madhusudhan Moole|Updated lab|\n",
    "|2024-09-23|1.0|Raghul Ramesh|Created lab|\n",
    "\n",
    "--!>\n"
   ]
  },
  {
   "cell_type": "markdown",
   "id": "6810f006-53ee-493e-a29f-837f4ab73310",
   "metadata": {},
   "source": [
    "## <h3 align=\"center\"> © IBM Corporation. All rights reserved. <h3/>\n"
   ]
  }
 ],
 "metadata": {
  "kernelspec": {
   "display_name": "base",
   "language": "python",
   "name": "python3"
  },
  "language_info": {
   "codemirror_mode": {
    "name": "ipython",
    "version": 3
   },
   "file_extension": ".py",
   "mimetype": "text/x-python",
   "name": "python",
   "nbconvert_exporter": "python",
   "pygments_lexer": "ipython3",
   "version": "3.12.2"
  },
  "prev_pub_hash": "f78dd679c054b4b4ba83764fae76e380612ff2780b7f9452119e6c3f45824b5a"
 },
 "nbformat": 4,
 "nbformat_minor": 4
}
